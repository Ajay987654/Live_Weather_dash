{
  "nbformat": 4,
  "nbformat_minor": 0,
  "metadata": {
    "colab": {
      "provenance": [],
      "include_colab_link": true
    },
    "kernelspec": {
      "name": "python3",
      "display_name": "Python 3"
    },
    "language_info": {
      "name": "python"
    }
  },
  "cells": [
    {
      "cell_type": "markdown",
      "metadata": {
        "id": "view-in-github",
        "colab_type": "text"
      },
      "source": [
        "<a href=\"https://colab.research.google.com/github/Ajay987654/Live_Weather_dash/blob/main/Live_weather_Dash.ipynb\" target=\"_parent\"><img src=\"https://colab.research.google.com/assets/colab-badge.svg\" alt=\"Open In Colab\"/></a>"
      ]
    },
    {
      "cell_type": "code",
      "execution_count": null,
      "metadata": {
        "id": "F0smOiMVZzeW"
      },
      "outputs": [],
      "source": [
        "!pip install streamlit pyngrok pandas requests --quiet"
      ]
    },
    {
      "cell_type": "code",
      "source": [
        "%%writefile app.py\n",
        "import streamlit as st\n",
        "import pandas as pd\n",
        "import requests\n",
        "from datetime import datetime\n",
        "\n",
        "API_KEY = \"c5bac693f8341b96d6b14aa5292c17ad\"\n",
        "\n",
        "def get_weather(city, units=\"metric\"):\n",
        "    url = f\"http://api.openweathermap.org/data/2.5/weather?q={city}&appid={API_KEY}&units={units}\"\n",
        "    response = requests.get(url)\n",
        "    if response.status_code == 200:\n",
        "        data = response.json()\n",
        "        weather = {\n",
        "            \"City\": city,\n",
        "            \"Temperature (°C)\": data[\"main\"][\"temp\"],\n",
        "            \"Humidity (%)\": data[\"main\"][\"humidity\"],\n",
        "            \"Pressure (hPa)\": data[\"main\"][\"pressure\"],\n",
        "            \"Weather\": data[\"weather\"][0][\"description\"],\n",
        "            \"Wind Speed (m/s)\": data[\"wind\"][\"speed\"],\n",
        "            \"Timestamp\": datetime.fromtimestamp(data[\"dt\"]).strftime(\"%Y-%m-%d %H:%M:%S\"),\n",
        "        }\n",
        "        return weather\n",
        "    else:\n",
        "        st.error(f\"City {city} not found or API error.\")\n",
        "        return None\n",
        "\n",
        "def main():\n",
        "    st.title(\"🌍 Live Weather Dashboard\")\n",
        "    st.write(\"Displays live weather data using OpenWeatherMap API.\")\n",
        "\n",
        "    cities = st.text_input(\"Enter cities separated by commas (e.g., Chennai,Coimbatore,Delhi)\", \"Chennai\")\n",
        "\n",
        "    if st.button(\"Fetch Weather\"):\n",
        "        city_list = [city.strip() for city in cities.split(\",\")]\n",
        "        data_list = []\n",
        "        for city in city_list:\n",
        "            weather = get_weather(city)\n",
        "            if weather:\n",
        "                data_list.append(weather)\n",
        "        if data_list:\n",
        "            df = pd.DataFrame(data_list)\n",
        "            st.dataframe(df)\n",
        "\n",
        "            st.line_chart(df.set_index(\"City\")[\"Temperature (°C)\"])\n",
        "            st.bar_chart(df.set_index(\"City\")[\"Humidity (%)\"])\n",
        "\n",
        "if __name__ == \"__main__\":\n",
        "    main()\n"
      ],
      "metadata": {
        "colab": {
          "base_uri": "https://localhost:8080/"
        },
        "id": "kX391O5UZ-Ap",
        "outputId": "61d7259c-62f1-48e0-d825-5c1699208ad7"
      },
      "execution_count": null,
      "outputs": [
        {
          "output_type": "stream",
          "name": "stdout",
          "text": [
            "Overwriting app.py\n"
          ]
        }
      ]
    },
    {
      "cell_type": "code",
      "source": [
        "!ngrok config add-authtoken $YOUR_AUTHTOKEN"
      ],
      "metadata": {
        "colab": {
          "base_uri": "https://localhost:8080/"
        },
        "id": "ZpymCCR1dvui",
        "outputId": "1fcf893d-33a9-400b-aad3-ee64591aca15"
      },
      "execution_count": null,
      "outputs": [
        {
          "output_type": "stream",
          "name": "stdout",
          "text": [
            "ERROR:  accepts 1 arg(s), received 0\n"
          ]
        }
      ]
    },
    {
      "cell_type": "code",
      "source": [
        "from pyngrok import ngrok\n",
        "\n",
        "ngrok.set_auth_token(\"30Jh7hjkZSAnnyhJyY30MxhjIl6_hcc38Ekr7E7ETFsSeqEo\")\n"
      ],
      "metadata": {
        "id": "PgMC-jZlctWq"
      },
      "execution_count": null,
      "outputs": []
    },
    {
      "cell_type": "code",
      "source": [
        "from pyngrok import ngrok\n",
        "import time\n",
        "\n",
        "try:\n",
        "    ngrok.kill()\n",
        "except:\n",
        "    pass\n",
        "\n",
        "NGROK_AUTH_TOKEN = \"30Jh7hjkZSAnnyhJyY30MxhjIl6_hcc38Ekr7E7ETFsSeqEo\"\n",
        "ngrok.set_auth_token(NGROK_AUTH_TOKEN)\n",
        "\n",
        "get_ipython().system_raw('streamlit run app.py --server.port 8502 &')\n",
        "\n",
        "time.sleep(5)\n",
        "\n",
        "public_url = ngrok.connect(8501)\n",
        "\n",
        "print(f\"🚀 Your Live Weather Dashboard is available at: {public_url}\")\n"
      ],
      "metadata": {
        "colab": {
          "base_uri": "https://localhost:8080/"
        },
        "id": "B05EaaBTaF46",
        "outputId": "001d5a30-6f6d-4086-e387-53169b70aa8f"
      },
      "execution_count": null,
      "outputs": [
        {
          "output_type": "stream",
          "name": "stdout",
          "text": [
            "🚀 Your Live Weather Dashboard is available at: NgrokTunnel: \"https://0d76e65bd29b.ngrok-free.app\" -> \"http://localhost:8501\"\n"
          ]
        }
      ]
    },
    {
      "cell_type": "code",
      "source": [],
      "metadata": {
        "id": "_XuErPbf-TrZ"
      },
      "execution_count": null,
      "outputs": []
    }
  ]
}